{
 "cells": [
  {
   "cell_type": "code",
   "execution_count": null,
   "metadata": {},
   "outputs": [],
   "source": [
    "import time \n",
    "import re\n",
    "import ctypes\n",
    "import pandas as pd \n",
    "from selenium import webdriver\n",
    "from selenium.webdriver.common.by import By\n",
    "from selenium.webdriver.support.ui import WebDriverWait\n",
    "from selenium.webdriver.support import  expected_conditions as EC \n",
    "from selenium.common.exceptions import TImeoutException, NoSuchElementException, taleElementReferenceException"
   ]
  },
  {
   "cell_type": "code",
   "execution_count": null,
   "metadata": {},
   "outputs": [],
   "source": [
    "ctypes.windll.kernal32.SetThreadExecutionState(x80000002) # stops sleep (windows)"
   ]
  },
  {
   "cell_type": "code",
   "execution_count": null,
   "metadata": {},
   "outputs": [],
   "source": [
    "options = webdriver.ChromeOptions()\n",
    "driver = webdriver.Chrome(options=options)\n",
    "\n",
    "driver.get('https://www.laliga.com/en-GB/laliga-easports/clubs')\n",
    "\n",
    "retry_attempts = 0\n",
    "max_retries = 1\n",
    "\n",
    "while retry_attempts <= max_retries:\n",
    "    try:\n",
    "        wait = WebDriverWait(driver, 10).until(\n",
    "            EC.presence_of_all_elements_located((By.CLASS_NAME, 'link'))\n",
    "        ) \n",
    "        club_links = driver.find_elements(By.CLASS_NAME, 'link')\n",
    "        break\n",
    "    except TimeoutException:\n",
    "        retry_attempts += 1\n",
    "        print(f\"Timeout exception occured. Attempt {retry_attempts} of {max_retries + 1}\")\n",
    "        if retry_attempts > max_retries:\n",
    "            print('Max retries reached. Stopping script')"
   ]
  },
  {
   "cell_type": "markdown",
   "metadata": {},
   "source": [
    "<a class=\"link\" target=\"_self\" globaldata=\"[object Object]\" datachangelang=\"[object Object]\" gptbase=\"/laliga-easports/clubes\" href=\"/en-GB/clubs/athletic-club/squad\"><div class=\"styled__AvatarContainer-sc-fyva03-2 fpOkUs\"><div class=\"styled__AvatarContainer-sc-1cljep8-0 kTyNMd\">\n",
    "\n",
    "ok so looks like every club link has the class link so i should target that.\n",
    "\n",
    "try:\n",
    "    # Wait for the elements\n",
    "    wait = WebDriverWait(driver, 10).until(\n",
    "        EC.presence_of_all_elements_located((By.CLASS_NAME, 'link'))\n",
    "    )\n",
    "    # Now fetch the elements once they’re confirmed present\n",
    "    club_links = driver.find_elements(By.CLASS_NAME, 'link')\n",
    "\n",
    "except TimeoutException:\n",
    "    print('There has been a timeout exception')\n",
    "    # Optional: Log to a file or retry logic"
   ]
  }
 ],
 "metadata": {
  "kernelspec": {
   "display_name": "Python 3",
   "language": "python",
   "name": "python3"
  },
  "language_info": {
   "codemirror_mode": {
    "name": "ipython",
    "version": 3
   },
   "file_extension": ".py",
   "mimetype": "text/x-python",
   "name": "python",
   "nbconvert_exporter": "python",
   "pygments_lexer": "ipython3",
   "version": "3.10.12"
  }
 },
 "nbformat": 4,
 "nbformat_minor": 2
}
