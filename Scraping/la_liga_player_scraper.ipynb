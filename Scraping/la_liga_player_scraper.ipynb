{
 "cells": [
  {
   "cell_type": "code",
   "execution_count": null,
   "metadata": {},
   "outputs": [],
   "source": [
    "import time \n",
    "import re\n",
    "import ctypes\n",
    "import pandas as pd \n",
    "from selenium import webdriver\n",
    "from selenium.webdriver.common.by import By\n",
    "from selenium.webdriver.support.ui import WebDriverWait\n",
    "from selenium.webdriver.support import  expected_conditions as EC \n",
    "from selenium.common.exceptions import TImeoutException, NoSuchElementException, taleElementReferenceException\n",
    "\n",
    "ctypes.windll.kernal32.SetThreadExecutionState(x80000002) # stops sleep (windows)\n",
    "\n",
    "options = webdriver.ChromeOptions()\n",
    "driver = webdriver.Chrome(options=options)"
   ]
  },
  {
   "cell_type": "code",
   "execution_count": null,
   "metadata": {},
   "outputs": [],
   "source": [
    "driver.get('https://www.laliga.com/en-GB/laliga-easports/clubs')"
   ]
  },
  {
   "cell_type": "code",
   "execution_count": null,
   "metadata": {},
   "outputs": [],
   "source": [
    "retry_attempts = 0\n",
    "max_retries = 1\n",
    "clubs = []\n",
    "\n",
    "\n",
    "while retry_attempts <= max_retries:\n",
    "    try:\n",
    "\n",
    "        wait = WebDriverWait(driver, 10).until(\n",
    "            EC.presence_of_all_elements_located((By.CLASS_NAME, 'styled__TextStyled-sc-1mby3k1-0 kYCCIm'))\n",
    "        )\n",
    "        club_names = driver.find_element(By.CLASS_NAME, 'styled__TextStyled-sc-1mby3k1-0 kYCCIm')\n",
    "        for element in club_names:\n",
    "            clubs.append(element.text)\n",
    "\n",
    "        print(\"Club names extracted:\", clubs)\n",
    "\n",
    "        wait = WebDriverWait(driver, 10).until(\n",
    "            EC.presence_of_all_elements_located((By.CLASS_NAME, 'link'))\n",
    "        ) \n",
    "        club_links = driver.find_elements(By.CLASS_NAME, 'link')\n",
    "        for element in club_links:  \n",
    "\n",
    "        break\n",
    "    except TimeoutException:\n",
    "        retry_attempts += 1\n",
    "        print(f\"Timeout exception occured. Attempt {retry_attempts} of {max_retries + 1}\")\n",
    "        if retry_attempts > max_retries:\n",
    "            print('Max retries reached. Stopping script')\n",
    "\n"
   ]
  },
  {
   "cell_type": "markdown",
   "metadata": {},
   "source": [
    "<a class=\"link\" target=\"_self\" globaldata=\"[object Object]\" datachangelang=\"[object Object]\" gptbase=\"/laliga-easports/clubes\" href=\"/en-GB/clubs/athletic-club/squad\"><div class=\"styled__AvatarContainer-sc-fyva03-2 fpOkUs\"><div class=\"styled__AvatarContainer-sc-1cljep8-0 kTyNMd\">\n",
    "\n",
    "<img src=\"https://assets.laliga.com/squad/2024/t174/p564564/512x512/p564564_t174_2024_1_003_000.png\" class=\"styled__ImageStyled-sc-17v9b6o-0 coeclD\">\n",
    "\n",
    "<h2 class=\"styled__TextStyled-sc-1mby3k1-0 kYCCIm\">Atlético de Madrid</h2>\n",
    "\n",
    "<h2 class=\"styled__TextStyled-sc-1mby3k1-0 kYCCIm\">Athletic Club</h2>\n",
    "\n",
    "        wait = WebDriverWait(driver, 10).until(\n",
    "            EC.presence_of_all_elements_located((By.CLASS_NAME, 'link'))\n",
    "        ) \n",
    "        club_links = driver.find_elements(By.CLASS_NAME, 'link')\n"
   ]
  }
 ],
 "metadata": {
  "kernelspec": {
   "display_name": "Python 3",
   "language": "python",
   "name": "python3"
  },
  "language_info": {
   "codemirror_mode": {
    "name": "ipython",
    "version": 3
   },
   "file_extension": ".py",
   "mimetype": "text/x-python",
   "name": "python",
   "nbconvert_exporter": "python",
   "pygments_lexer": "ipython3",
   "version": "3.10.12"
  }
 },
 "nbformat": 4,
 "nbformat_minor": 2
}
