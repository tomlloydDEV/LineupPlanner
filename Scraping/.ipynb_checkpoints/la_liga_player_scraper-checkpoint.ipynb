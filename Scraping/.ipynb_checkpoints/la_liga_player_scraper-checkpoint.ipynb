{
 "cells": [
  {
   "cell_type": "code",
   "execution_count": null,
   "metadata": {},
   "outputs": [],
   "source": [
    "import time \n",
    "import re\n",
    "import ctypes\n",
    "import pandas as pd \n",
    "from selenium import webdriver\n",
    "from selenium.webdriver.common.by import By\n",
    "from selenium.webdriver.support import  expected_conditions as EC \n",
    "from selenium.common.exceptions import TImeoutException, NoSuchElementException, taleElementReferenceException"
   ]
  },
  {
   "cell_type": "code",
   "execution_count": null,
   "metadata": {},
   "outputs": [],
   "source": [
    "ctypes.windll.kernal32.SetThreadExecutionState(x80000002)"
   ]
  },
  {
   "cell_type": "code",
   "execution_count": null,
   "metadata": {},
   "outputs": [],
   "source": [
    "options = webdriver.ChromeOptions()\n",
    "driver = webdriver.Chrome(options=options)\n",
    "driver.maximize_window()\n",
    "\n",
    "driver.get('https://www.laliga.com/en-GB/laliga-easports/clubs')\n",
    "\n",
    "wait = WebDriverWait(driver, 10)\n",
    "club_elements = wait.until(EC.presence_of_all_elements_locaated((By.CSS_SELECTOR, \"div.styled__AvatarContainer-sc-fyva03-2\")))\n"
   ]
  }
 ],
 "metadata": {
  "language_info": {
   "name": "python"
  }
 },
 "nbformat": 4,
 "nbformat_minor": 2
}
